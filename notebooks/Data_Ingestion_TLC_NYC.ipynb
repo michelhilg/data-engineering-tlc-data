{
  "cells": [
    {
      "cell_type": "markdown",
      "metadata": {
        "id": "nhoA0LpFGHkp"
      },
      "source": [
        "# Importing NYC TLC Files\n",
        "\n",
        "The goal of this notebook is to generate the commands to download and export the NYC TLC data directly from the website.\n",
        "\n",
        "For doing this, we will use the features of the Google Cloud (GC) platform.\n",
        "\n",
        "Following the Google Cloud best practices, since our data has less than 10TB in size, we could perform this operation in a command prompt of a GC VMs instance.\n",
        "\n",
        "First, we will use the `wget` command to download the data into the VM instance, then, with the `gsutil` library we could export the data to the Google Cloud Storage (GCS) service, where we could easily access it."
      ]
    },
    {
      "cell_type": "markdown",
      "metadata": {
        "id": "gAnc5bEtrPqT"
      },
      "source": [
        "## Step 1: Import Dependencies"
      ]
    },
    {
      "cell_type": "code",
      "execution_count": 1,
      "metadata": {
        "id": "jA7Xos6HrPDs"
      },
      "outputs": [],
      "source": [
        "import datetime"
      ]
    },
    {
      "cell_type": "markdown",
      "metadata": {
        "id": "7HBZHuZj_FD_"
      },
      "source": [
        "## Step 2: Analyse the format of the links\n",
        "\n",
        "Checking the data link in the webpage, we found the following structure:\n",
        "\n",
        "`https://d37ci6vzurychx.cloudfront.net/trip-data/{category}_tripdata_{year}-{month}.parquet`\n",
        "\n",
        "The file links follow a predefined structure with category, year, and month. We need to defined the variables above to look for data:"
      ]
    },
    {
      "cell_type": "code",
      "execution_count": 3,
      "metadata": {
        "id": "J12aKqdH_ez7"
      },
      "outputs": [],
      "source": [
        "months = [\"01\", \"02\", \"03\", \"04\", \"05\", \"06\", \"07\", \"08\", \"09\", \"10\", \"11\", \"12\"]\n",
        "category = [\"yellow\", \"green\", \"fhv\", \"fhvhv\"]\n",
        "\n",
        "now = datetime.datetime.now()\n",
        "begin = 2020\n",
        "years = []\n",
        "for i in range(begin, now.year+1):\n",
        "  years.append(i)"
      ]
    },
    {
      "cell_type": "markdown",
      "metadata": {
        "id": "L7yQwR9sHQhH"
      },
      "source": [
        "## Step 3: Download the files via Google VM Instance\n",
        "\n",
        "Since we first have to download the data into the VM instance, and after export to GCS, we will do this by batches of data, which batch corresponds to a category.\n",
        "\n",
        "To check the availability of new data, we will simply pass the whole month's links(Jan to Dec) of the current year, as the result, the system will check the links and download until the most recent month is available."
      ]
    },
    {
      "cell_type": "code",
      "execution_count": 10,
      "metadata": {
        "id": "XufnM3NVAeMd"
      },
      "outputs": [],
      "source": [
        "yellow_down = []\n",
        "green_down = []\n",
        "fhv_down = []\n",
        "fhvhv_down = []\n",
        "\n",
        "for y in years:\n",
        "  for m in months:\n",
        "    for t in category:\n",
        "      if t == \"yellow\":\n",
        "        yellow_down.append(f\"wget https://d37ci6vzurychx.cloudfront.net/trip-data/yellow_tripdata_{y}-{m}.parquet;\")\n",
        "      elif t == \"green\":\n",
        "        green_down.append(f\"wget https://d37ci6vzurychx.cloudfront.net/trip-data/green_tripdata_{y}-{m}.parquet;\")\n",
        "      elif t == \"fhv\":\n",
        "        fhv_down.append(f\"wget https://d37ci6vzurychx.cloudfront.net/trip-data/fhv_tripdata_{y}-{m}.parquet;\")\n",
        "      else:\n",
        "        fhvhv_down.append(f\"wget https://d37ci6vzurychx.cloudfront.net/trip-data/fhvhv_tripdata_{y}-{m}.parquet;\")"
      ]
    },
    {
      "cell_type": "markdown",
      "metadata": {
        "id": "XPHpNXq1spu7"
      },
      "source": [
        "Example:"
      ]
    },
    {
      "cell_type": "code",
      "execution_count": 15,
      "metadata": {
        "colab": {
          "base_uri": "https://localhost:8080/"
        },
        "id": "QNITguUTso3B",
        "outputId": "6350fe30-cfdd-4d7f-a7ca-f7a6aa9b1ec6"
      },
      "outputs": [
        {
          "name": "stdout",
          "output_type": "stream",
          "text": [
            "wget https://d37ci6vzurychx.cloudfront.net/trip-data/yellow_tripdata_2020-01.parquet;\n",
            "wget https://d37ci6vzurychx.cloudfront.net/trip-data/yellow_tripdata_2020-02.parquet;\n",
            "wget https://d37ci6vzurychx.cloudfront.net/trip-data/yellow_tripdata_2020-03.parquet;\n"
          ]
        }
      ],
      "source": [
        "for i in yellow_down[:3]:\n",
        "  print(i)"
      ]
    },
    {
      "cell_type": "markdown",
      "metadata": {
        "id": "YffWA8getjzQ"
      },
      "source": [
        "The command above could be easily pasted on the VM terminal to quickly download the data."
      ]
    },
    {
      "attachments": {},
      "cell_type": "markdown",
      "metadata": {
        "id": "VlJLsoIlIxCR"
      },
      "source": [
        "## Step 4: Export data to Google cloud storage\n",
        "\n",
        "In a same way, we will generate the commands to export the data from the VM instance to the a bucket in GCS.\n",
        "\n",
        "We will create a folder sctruture as follows:\n",
        "\n",
        "├── tlc-data-task\n",
        "\n",
        "│   ├── yellow-taxi\n",
        "\n",
        "│   ├── green-taxi\n",
        "\n",
        "│   ├── fhv\n",
        "\n",
        "│   ├── fhvhv"
      ]
    },
    {
      "cell_type": "code",
      "execution_count": 4,
      "metadata": {
        "id": "k8O51f8cBFAH"
      },
      "outputs": [],
      "source": [
        "yellow_cs = []\n",
        "green_cs = []\n",
        "fhv_cs = []\n",
        "fhvhv_cs = []\n",
        "\n",
        "for y in years:\n",
        "  for m in months:\n",
        "    for t in category:\n",
        "      if t == \"yellow\":\n",
        "        yellow_cs.append(f\"gsutil cp yellow_tripdata_{y}-{m}.parquet gs://tlc-data-task/yellow-taxi;\")\n",
        "      elif t == \"green\":\n",
        "        green_cs.append(f\"gsutil cp green_tripdata_{y}-{m}.parquet gs://tlc-data-task/green-taxi;\")\n",
        "      elif t == \"fhv\":\n",
        "        fhv_cs.append(f\"gsutil cp fhv_tripdata_{y}-{m}.parquet gs://tlc-data-task/fhv;\")\n",
        "      else:\n",
        "        fhvhv_cs.append(f\"gsutil cp fhvhv_tripdata_{y}-{m}.parquet gs://tlc-data-task/fhvhv;\")"
      ]
    },
    {
      "cell_type": "markdown",
      "metadata": {
        "id": "a1-ERZfOvBCH"
      },
      "source": [
        "Example"
      ]
    },
    {
      "cell_type": "code",
      "execution_count": 5,
      "metadata": {
        "colab": {
          "base_uri": "https://localhost:8080/"
        },
        "id": "xUmAlvfEvBSi",
        "outputId": "be037595-2d2a-4f44-bdb2-1875a9c65bca"
      },
      "outputs": [
        {
          "name": "stdout",
          "output_type": "stream",
          "text": [
            "gsutil cp yellow_tripdata_2020-01.parquet gs://tlc-data-task/yellow-taxi;\n",
            "gsutil cp yellow_tripdata_2020-02.parquet gs://tlc-data-task/yellow-taxi;\n",
            "gsutil cp yellow_tripdata_2020-03.parquet gs://tlc-data-task/yellow-taxi;\n"
          ]
        }
      ],
      "source": [
        "for i in yellow_cs[:3]:\n",
        "  print(i)"
      ]
    },
    {
      "cell_type": "markdown",
      "metadata": {
        "id": "TeIlm8riIbK0"
      },
      "source": [
        "## Step 5: Delete Files from VM Instance"
      ]
    },
    {
      "cell_type": "code",
      "execution_count": 22,
      "metadata": {
        "id": "iiF3Mz8eEGPa"
      },
      "outputs": [],
      "source": [
        "yellow_del = []\n",
        "green_del = []\n",
        "fhv_del = []\n",
        "fhvhv_del = []\n",
        "\n",
        "for y in years:\n",
        "  for m in months:\n",
        "    for t in category:\n",
        "      if t == \"yellow\":\n",
        "        yellow_del.append(f\"rm yellow_tripdata_{y}-{m}.parquet;\")\n",
        "      elif t == \"green\":\n",
        "        green_del.append(f\"rm green_tripdata_{y}-{m}.parquet;\")\n",
        "      elif t == \"fhv\":\n",
        "        fhv_del.append(f\"rm fhv_tripdata_{y}-{m}.parquet;\")\n",
        "      else:\n",
        "        fhvhv_del.append(f\"rm fhvhv_tripdata_{y}-{m}.parquet;\")\n"
      ]
    },
    {
      "cell_type": "markdown",
      "metadata": {
        "id": "ZcltdqHhvy4V"
      },
      "source": [
        "Example"
      ]
    },
    {
      "cell_type": "code",
      "execution_count": 23,
      "metadata": {
        "colab": {
          "base_uri": "https://localhost:8080/"
        },
        "id": "3JrX5Mtnv0YC",
        "outputId": "1d7032c4-eb78-421b-817a-f73fe1e1daa9"
      },
      "outputs": [
        {
          "name": "stdout",
          "output_type": "stream",
          "text": [
            "rm yellow_tripdata_2020-01.parquet;\n",
            "rm yellow_tripdata_2020-02.parquet;\n",
            "rm yellow_tripdata_2020-03.parquet;\n"
          ]
        }
      ],
      "source": [
        "for i in yellow_del[:3]:\n",
        "  print(i)"
      ]
    }
  ],
  "metadata": {
    "colab": {
      "provenance": []
    },
    "kernelspec": {
      "display_name": "Python 3",
      "name": "python3"
    },
    "language_info": {
      "codemirror_mode": {
        "name": "ipython",
        "version": 3
      },
      "file_extension": ".py",
      "mimetype": "text/x-python",
      "name": "python",
      "nbconvert_exporter": "python",
      "pygments_lexer": "ipython3",
      "version": "3.10.4"
    }
  },
  "nbformat": 4,
  "nbformat_minor": 0
}
